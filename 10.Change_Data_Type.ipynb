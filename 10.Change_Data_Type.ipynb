{
 "cells": [
  {
   "cell_type": "code",
   "execution_count": null,
   "metadata": {},
   "outputs": [],
   "source": [
    "import pandas as pd\n",
    "\n",
    "def changeDatatype(students: pd.DataFrame) -> pd.DataFrame:\n",
    "    #       Method - 1\n",
    "    # astype() -> used to convert data type\n",
    "    #students['grade']=students['grade'].astype(int)\n",
    "\n",
    "    #       Method -2\n",
    "    return students.assign(grade=students['grade'].astype(int))\n",
    "    #return students"
   ]
  }
 ],
 "metadata": {
  "language_info": {
   "name": "python"
  }
 },
 "nbformat": 4,
 "nbformat_minor": 2
}
