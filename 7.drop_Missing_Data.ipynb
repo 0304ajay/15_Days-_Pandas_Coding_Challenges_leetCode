{
 "cells": [
  {
   "cell_type": "code",
   "execution_count": null,
   "metadata": {},
   "outputs": [],
   "source": [
    "import pandas as pd\n",
    "\n",
    "def dropMissingData(students: pd.DataFrame) -> pd.DataFrame:\n",
    "#                                   Method -1\n",
    "#By built in functions axis-> to remove rows(index) ,how -> to remove if any one of the value is missing,subset ->To delete only based on name \n",
    "    students.dropna(axis=\"index\",subset=['name'],inplace=True)\n",
    "    return students\n",
    "\n",
    "    #                               Method-2\n",
    "    #    we are returning only the data where the data is not missing\n",
    "    # return pd.DataFrame(students)[students['name'].notnull()]\n",
    "    "
   ]
  }
 ],
 "metadata": {
  "language_info": {
   "name": "python"
  }
 },
 "nbformat": 4,
 "nbformat_minor": 2
}
