{
 "cells": [
  {
   "cell_type": "code",
   "execution_count": null,
   "metadata": {},
   "outputs": [],
   "source": [
    "import pandas as pd\n",
    "\n",
    "def createDataframe(student_data: List[List[int]]) -> pd.DataFrame:\n",
    "    ls1=[]\n",
    "    ls2=[]\n",
    "    for i in range(len(student_data)):\n",
    "        ls1.append(student_data[i][0])\n",
    "        ls2.append(student_data[i][1])\n",
    "\n",
    "    dist={\"student_id\":ls1,\"age\":ls2}\n",
    "    df=pd.DataFrame(dist)\n",
    "    return df\n",
    "    "
   ]
  }
 ],
 "metadata": {
  "language_info": {
   "name": "python"
  }
 },
 "nbformat": 4,
 "nbformat_minor": 2
}
