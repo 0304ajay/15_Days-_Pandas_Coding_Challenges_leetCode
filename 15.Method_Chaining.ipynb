{
 "cells": [
  {
   "cell_type": "code",
   "execution_count": null,
   "metadata": {},
   "outputs": [],
   "source": [
    "import pandas as pd\n",
    "\n",
    "def findHeavyAnimals(animals: pd.DataFrame) -> pd.DataFrame:\n",
    "    #                   METHOD -1 \n",
    "    animals.sort_values(by='weight',ascending=False,inplace=True)\n",
    "    filt=animals['weight']>100\n",
    "    df1=animals[filt]\n",
    "    df1.drop(columns={'species','age','weight'},inplace=True)\n",
    "    return df1\n",
    "\n",
    "    #               METHOD -2\n",
    "\n",
    "    # return animals[animals['weight'] > 100].sort_values(['weight'],ascending=False)[['name']]"
   ]
  }
 ],
 "metadata": {
  "language_info": {
   "name": "python"
  }
 },
 "nbformat": 4,
 "nbformat_minor": 2
}
