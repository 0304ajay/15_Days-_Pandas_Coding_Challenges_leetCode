{
 "cells": [
  {
   "cell_type": "code",
   "execution_count": null,
   "metadata": {},
   "outputs": [],
   "source": [
    "import pandas as pd\n",
    "\n",
    "def meltTable(report: pd.DataFrame) -> pd.DataFrame:\n",
    "    #               Method -1\n",
    "    report=report.melt(id_vars=['product'],value_vars=['quarter_1','quarter_2','quarter_3','quarter_4'],var_name='quarter',value_name='sales')\n",
    "\n",
    "    # Method -2 \n",
    "    # return pd.melt(report, id_vars=['product'], var_name='quarter', value_name='sales')\n",
    "\n",
    "    return report\n",
    "    "
   ]
  }
 ],
 "metadata": {
  "language_info": {
   "name": "python"
  }
 },
 "nbformat": 4,
 "nbformat_minor": 2
}
