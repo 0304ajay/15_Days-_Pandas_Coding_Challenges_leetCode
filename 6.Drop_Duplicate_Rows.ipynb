{
 "cells": [
  {
   "cell_type": "code",
   "execution_count": null,
   "metadata": {},
   "outputs": [],
   "source": [
    "import pandas as pd\n",
    "\n",
    "def dropDuplicateEmails(customers: pd.DataFrame) -> pd.DataFrame:\n",
    "    #                                Method -1 \n",
    "    # duplicate_emails=customers[customers.duplicated('email',keep='first')]\n",
    "    # customers.drop(duplicate_email.index,inplace=True)\n",
    "\n",
    "    #                               Method -2\n",
    "    customers.drop_duplicates('email',inplace=True)\n",
    "    return customers\n",
    "    "
   ]
  }
 ],
 "metadata": {
  "language_info": {
   "name": "python"
  }
 },
 "nbformat": 4,
 "nbformat_minor": 2
}
