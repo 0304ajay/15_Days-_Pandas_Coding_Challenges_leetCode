{
 "cells": [
  {
   "cell_type": "code",
   "execution_count": 1,
   "metadata": {},
   "outputs": [],
   "source": [
    "import pandas as pd\n",
    "\n",
    "def selectData(students: pd.DataFrame) -> pd.DataFrame:  \n",
    "\n",
    "    # First We will filter out that particular row \n",
    "    filt=(students[\"student_id\"]==101)\n",
    "    # then we are copying the dataframe to new dataFrame\n",
    "    df=pd.DataFrame(students.loc[filt])\n",
    "    # Then we are removing the particular column\n",
    "    df.drop(columns=['student_id'],inplace=True)\n",
    "    \n",
    "    return df\n",
    "    "
   ]
  }
 ],
 "metadata": {
  "kernelspec": {
   "display_name": "base",
   "language": "python",
   "name": "python3"
  },
  "language_info": {
   "codemirror_mode": {
    "name": "ipython",
    "version": 3
   },
   "file_extension": ".py",
   "mimetype": "text/x-python",
   "name": "python",
   "nbconvert_exporter": "python",
   "pygments_lexer": "ipython3",
   "version": "3.11.5"
  }
 },
 "nbformat": 4,
 "nbformat_minor": 2
}
