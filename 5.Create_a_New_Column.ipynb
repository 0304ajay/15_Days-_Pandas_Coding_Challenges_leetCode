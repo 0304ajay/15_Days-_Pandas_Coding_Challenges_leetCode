{
 "cells": [
  {
   "cell_type": "code",
   "execution_count": null,
   "metadata": {},
   "outputs": [],
   "source": [
    "import pandas as pd\n",
    "\n",
    "def createBonusColumn(employees: pd.DataFrame) -> pd.DataFrame:\n",
    "\n",
    "    #      Method - 1(Simplest Method)\n",
    "    #Create a new column and initializa it with 2*2*employees['salary']\n",
    "    employees['bonus']=2*employees['salary']\n",
    "\n",
    "            #        Method - 2\n",
    "    #By using function \n",
    "    # def bon(x):\n",
    "    #     return 2*x\n",
    "    # employees['bonus']=employees['salary'].apply(bon)\n",
    "    return employees\n",
    "    "
   ]
  }
 ],
 "metadata": {
  "language_info": {
   "name": "python"
  }
 },
 "nbformat": 4,
 "nbformat_minor": 2
}
