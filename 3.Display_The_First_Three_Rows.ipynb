{
 "cells": [
  {
   "cell_type": "code",
   "execution_count": null,
   "metadata": {},
   "outputs": [],
   "source": [
    "import pandas as pd\n",
    "\n",
    "def selectFirstRows(employees: pd.DataFrame) -> pd.DataFrame:\n",
    "    \n",
    "    #The First Method is \n",
    "    three_rows=employees.loc[0:2]\n",
    "    return three_rows\n",
    "\n",
    "\n",
    "    # This is by inbuilt Function\n",
    "    # return employees.head(3)"
   ]
  }
 ],
 "metadata": {
  "language_info": {
   "name": "python"
  }
 },
 "nbformat": 4,
 "nbformat_minor": 2
}
