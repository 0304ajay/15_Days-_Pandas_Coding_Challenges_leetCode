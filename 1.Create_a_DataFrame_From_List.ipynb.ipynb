{
 "cells": [
  {
   "cell_type": "code",
   "execution_count": null,
   "metadata": {},
   "outputs": [],
   "source": [
    "import pandas as pd\n",
    "\n",
    "def getDataframeSize(players: pd.DataFrame) -> List[int]:\n",
    "\n",
    "    #This is First Method\n",
    "    # lst=[]\n",
    "    # lst.append(len(players))\n",
    "    # lst.append(len(players.columns))\n",
    "\n",
    "    #This is Second Method\n",
    "    #The other way is num_rows, num_columns = df.shape then return num_rows,nums_columns\n",
    "\n",
    "    #This is the third method and a direct method\n",
    "    return [len(players),len(players.columns)]\n"
   ]
  }
 ],
 "metadata": {
  "kernelspec": {
   "display_name": "base",
   "language": "python",
   "name": "python3"
  },
  "language_info": {
   "name": "python",
   "version": "3.11.5"
  }
 },
 "nbformat": 4,
 "nbformat_minor": 2
}
