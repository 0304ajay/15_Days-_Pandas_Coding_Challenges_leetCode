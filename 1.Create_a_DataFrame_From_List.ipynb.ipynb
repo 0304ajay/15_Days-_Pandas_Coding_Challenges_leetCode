{
 "cells": [
  {
   "cell_type": "code",
   "execution_count": null,
   "metadata": {},
   "outputs": [],
   "source": [
    "\n",
    "import pandas as pd\n",
    "\n",
    "def createDataframe(student_data: List[List[int]]) -> pd.DataFrame:\n",
    "    ls1=[]\n",
    "    ls2=[]\n",
    "    for i in range(len(student_data)):\n",
    "        ls1.append(student_data[i][0])\n",
    "        ls2.append(student_data[i][1])\n",
    "\n",
    "    dist={\"student_id\":ls1,\"age\":ls2}\n",
    "    df=pd.DataFrame(dist)\n",
    "    return df"
   ]
  }
 ],
 "metadata": {
  "kernelspec": {
   "display_name": "base",
   "language": "python",
   "name": "python3"
  },
  "language_info": {
   "name": "python",
   "version": "3.11.5"
  }
 },
 "nbformat": 4,
 "nbformat_minor": 2
}
