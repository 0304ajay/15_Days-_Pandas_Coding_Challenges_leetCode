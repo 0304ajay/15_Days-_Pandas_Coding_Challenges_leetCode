{
 "cells": [
  {
   "cell_type": "code",
   "execution_count": null,
   "metadata": {},
   "outputs": [],
   "source": [
    "import pandas as pd\n",
    "\n",
    "def renameColumns(students: pd.DataFrame) -> pd.DataFrame:\n",
    "    #By using Built in function   METHOD -1\n",
    "        # students.rename(\n",
    "        #     columns=\n",
    "        #     {'id':'student_id',\n",
    "        #     'first':'first_name',\n",
    "        #     'last':'last_name',\n",
    "        #     'age':'age_in_years'},\n",
    "        #     inplace=True)\n",
    "    #                       METHOD -2\n",
    "    students.columns = [\"student_id\", \"first_name\", \"last_name\", \"age_in_years\"]\n",
    "    return students\n",
    "    "
   ]
  }
 ],
 "metadata": {
  "language_info": {
   "name": "python"
  }
 },
 "nbformat": 4,
 "nbformat_minor": 2
}
