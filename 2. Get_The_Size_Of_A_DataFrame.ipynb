{
 "cells": [
  {
   "cell_type": "code",
   "execution_count": null,
   "metadata": {},
   "outputs": [],
   "source": [
    "import pandas as pd\n",
    "\n",
    "def getDataframeSize(players: pd.DataFrame) -> List[int]:\n",
    "\n",
    "    #This is First Method\n",
    "    # lst=[]\n",
    "    # lst.append(len(players))\n",
    "    # lst.append(len(players.columns))\n",
    "\n",
    "    #This is Second Method\n",
    "    #The other way is num_rows, num_columns = df.shape then return num_rows,nums_columns\n",
    "\n",
    "    #This is the third method and a direct method\n",
    "    return [len(players),len(players.columns)]\n"
   ]
  }
 ],
 "metadata": {
  "language_info": {
   "name": "python"
  }
 },
 "nbformat": 4,
 "nbformat_minor": 2
}
