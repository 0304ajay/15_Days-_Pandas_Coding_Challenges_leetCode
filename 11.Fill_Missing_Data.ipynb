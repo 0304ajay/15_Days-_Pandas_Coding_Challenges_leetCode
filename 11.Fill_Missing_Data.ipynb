{
 "cells": [
  {
   "cell_type": "code",
   "execution_count": null,
   "metadata": {},
   "outputs": [],
   "source": [
    "import pandas as pd\n",
    "import numpy as np\n",
    "def fillMissingValues(products: pd.DataFrame) -> pd.DataFrame:\n",
    "    #       Method-1\n",
    "   products['quantity'].fillna(0,inplace=True)\n",
    "   return products"
   ]
  }
 ],
 "metadata": {
  "language_info": {
   "name": "python"
  }
 },
 "nbformat": 4,
 "nbformat_minor": 2
}
