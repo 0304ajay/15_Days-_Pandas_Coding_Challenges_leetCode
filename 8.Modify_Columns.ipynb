{
 "cells": [
  {
   "cell_type": "code",
   "execution_count": null,
   "metadata": {},
   "outputs": [],
   "source": [
    "import pandas as pd\n",
    "\n",
    "def modifySalaryColumn(employees: pd.DataFrame) -> pd.DataFrame:\n",
    "\n",
    "    #                               Method -1\n",
    "    # employees[\"salary\"]=employees[\"salary\"].astype(int)\n",
    "    employees[\"salary\"]=employees[\"salary\"]*2\n",
    "\n",
    "    #                               Method -2\n",
    "    #return employees.assign(salary=2 * employees['salary'])\n",
    "\n",
    "    return employees\n",
    "    "
   ]
  }
 ],
 "metadata": {
  "language_info": {
   "name": "python"
  }
 },
 "nbformat": 4,
 "nbformat_minor": 2
}
